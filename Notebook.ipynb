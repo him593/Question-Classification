{
 "cells": [
  {
   "cell_type": "code",
   "execution_count": 1,
   "metadata": {
    "collapsed": true
   },
   "outputs": [],
   "source": [
    "%matplotlib inline\n",
    "import numpy as np\n",
    "import pandas as pd\n",
    "import nltk\n",
    "import matplotlib.pyplot as plt\n",
    "import collections\n",
    "import re\n",
    "from nltk.stem import SnowballStemmer\n",
    "from sklearn.feature_extraction.text import CountVectorizer\n",
    "from sklearn.feature_extraction.text import TfidfTransformer\n",
    "from sklearn.linear_model import LogisticRegression\n",
    "from sklearn.model_selection import train_test_split"
   ]
  },
  {
   "cell_type": "raw",
   "metadata": {},
   "source": [
    "Loading the data. Preliminary Preprocessing and then saving the data in a Pandas dataframe to have unique tokens."
   ]
  },
  {
   "cell_type": "code",
   "execution_count": 2,
   "metadata": {},
   "outputs": [
    {
     "data": {
      "text/html": [
       "<div>\n",
       "<style>\n",
       "    .dataframe thead tr:only-child th {\n",
       "        text-align: right;\n",
       "    }\n",
       "\n",
       "    .dataframe thead th {\n",
       "        text-align: left;\n",
       "    }\n",
       "\n",
       "    .dataframe tbody tr th {\n",
       "        vertical-align: top;\n",
       "    }\n",
       "</style>\n",
       "<table border=\"1\" class=\"dataframe\">\n",
       "  <thead>\n",
       "    <tr style=\"text-align: right;\">\n",
       "      <th></th>\n",
       "      <th>Question</th>\n",
       "      <th>Question_Type</th>\n",
       "    </tr>\n",
       "  </thead>\n",
       "  <tbody>\n",
       "    <tr>\n",
       "      <th>0</th>\n",
       "      <td>how did serfdom develop in and then leave russ...</td>\n",
       "      <td>unknown</td>\n",
       "    </tr>\n",
       "    <tr>\n",
       "      <th>1</th>\n",
       "      <td>what films featured the character popeye doyle ?</td>\n",
       "      <td>what</td>\n",
       "    </tr>\n",
       "    <tr>\n",
       "      <th>2</th>\n",
       "      <td>how can i find a list of celebrities ' real na...</td>\n",
       "      <td>unknown</td>\n",
       "    </tr>\n",
       "    <tr>\n",
       "      <th>3</th>\n",
       "      <td>what fowl grabs the spotlight after the chines...</td>\n",
       "      <td>what</td>\n",
       "    </tr>\n",
       "    <tr>\n",
       "      <th>4</th>\n",
       "      <td>what is the full form of .com ?</td>\n",
       "      <td>what</td>\n",
       "    </tr>\n",
       "  </tbody>\n",
       "</table>\n",
       "</div>"
      ],
      "text/plain": [
       "                                            Question Question_Type\n",
       "0  how did serfdom develop in and then leave russ...       unknown\n",
       "1   what films featured the character popeye doyle ?          what\n",
       "2  how can i find a list of celebrities ' real na...       unknown\n",
       "3  what fowl grabs the spotlight after the chines...          what\n",
       "4                    what is the full form of .com ?          what"
      ]
     },
     "execution_count": 2,
     "metadata": {},
     "output_type": "execute_result"
    }
   ],
   "source": [
    "\n",
    "with open(\"LabelledData.txt\",\"r\") as text:\n",
    "    lines=text.readlines()\n",
    "lines=[line.replace(\"\\n\",\"\") for line in lines]\n",
    "lines=[line.split(\",,,\") for line in lines]\n",
    "questions=[line[0] for line in lines]\n",
    "question_type=[line[1] for line in lines]\n",
    "question_type=[q.strip() for q in question_type]\n",
    "questions=[q.strip() for q in questions]\n",
    "lines=[[q,w] for (q,w) in zip(questions,question_type)]\n",
    "data=pd.DataFrame(lines,columns=[\"Question\",\"Question_Type\"])\n",
    "data.head()\n"
   ]
  },
  {
   "cell_type": "markdown",
   "metadata": {},
   "source": [
    "We have a set of questions,assigned to a specific question type. The question types are as follows:\n"
   ]
  },
  {
   "cell_type": "code",
   "execution_count": 3,
   "metadata": {},
   "outputs": [
    {
     "name": "stdout",
     "output_type": "stream",
     "text": [
      "(array(['affirmation', 'unknown', 'what', 'when', 'who'], dtype=object), array([104, 272, 609,  96, 402], dtype=int64))\n"
     ]
    }
   ],
   "source": [
    "question_types=np.unique(data[\"Question_Type\"].values,return_counts=True)\n",
    "print question_types"
   ]
  },
  {
   "cell_type": "markdown",
   "metadata": {},
   "source": [
    "All the classes seems adequately presented, however questions of type \"what\" are over represented in data. Let us visualize it\n",
    "better using a plot."
   ]
  },
  {
   "cell_type": "code",
   "execution_count": 4,
   "metadata": {},
   "outputs": [
    {
     "data": {
      "image/png": "[encoded data removed]",
      "text/plain": [
       "<matplotlib.figure.Figure at 0xe06cda0>"
      ]
     },
     "metadata": {},
     "output_type": "display_data"
    }
   ],
   "source": [
    "plt.bar(range(len(list(question_types[0]))),list(question_types[1]))\n",
    "plt.xlabel(\"Question Type\")\n",
    "plt.ylabel(\"Frequency\")\n",
    "plt.xticks(range(len(list(question_types[0]))),list(question_types[0]))\n",
    "plt.show()"
   ]
  },
  {
   "cell_type": "markdown",
   "metadata": {},
   "source": [
    "Let's set baselines. We will only use one baseline here and then try further models. The baseline is to predict \"What\" for every\n",
    "example. This gives us an accuracy of: "
   ]
  },
  {
   "cell_type": "code",
   "execution_count": 5,
   "metadata": {},
   "outputs": [
    {
     "name": "stdout",
     "output_type": "stream",
     "text": [
      "0.410654079568\n"
     ]
    }
   ],
   "source": [
    "count=collections.Counter(data[\"Question_Type\"].values)\n",
    "print count[\"what\"]/float(len(data))"
   ]
  },
  {
   "cell_type": "markdown",
   "metadata": {
    "collapsed": true
   },
   "source": [
    "So, we can see without much surprise that we are doing quite a bad job. So it is better to try learning based models. We will\n",
    "build a MaxEnt model for this exercise. But before that,we need to normalize our text data so as to not have redundant representations. \n"
   ]
  },
  {
   "cell_type": "code",
   "execution_count": 6,
   "metadata": {
    "collapsed": true
   },
   "outputs": [],
   "source": [
    "def data_processing(text):\n",
    "    puncts=[',',\"'\",'\"']\n",
    "    stemmer=SnowballStemmer(\"english\")\n",
    "    processed_text=[]\n",
    "    for line in text:\n",
    "        line=line.lower()\n",
    "        line=line.decode('utf-8','ignore')\n",
    "        line=re.sub(r'[0-9]+','',line)\n",
    "        \n",
    "        words=nltk.word_tokenize(line)\n",
    "        words=[w for w in words if w not in puncts]\n",
    "        words=[stemmer.stem(w) for w in words]\n",
    "        processed_text.append(\" \".join(words))\n",
    "     \n",
    "    return processed_text\n",
    "        \n",
    "    "
   ]
  },
  {
   "cell_type": "code",
   "execution_count": 7,
   "metadata": {},
   "outputs": [
    {
     "data": {
      "text/html": [
       "<div>\n",
       "<style>\n",
       "    .dataframe thead tr:only-child th {\n",
       "        text-align: right;\n",
       "    }\n",
       "\n",
       "    .dataframe thead th {\n",
       "        text-align: left;\n",
       "    }\n",
       "\n",
       "    .dataframe tbody tr th {\n",
       "        vertical-align: top;\n",
       "    }\n",
       "</style>\n",
       "<table border=\"1\" class=\"dataframe\">\n",
       "  <thead>\n",
       "    <tr style=\"text-align: right;\">\n",
       "      <th></th>\n",
       "      <th>abbi</th>\n",
       "      <th>abbrevi</th>\n",
       "      <th>abil</th>\n",
       "      <th>abolish</th>\n",
       "      <th>abomin</th>\n",
       "      <th>about</th>\n",
       "      <th>academi</th>\n",
       "      <th>accept</th>\n",
       "      <th>access</th>\n",
       "      <th>accessori</th>\n",
       "      <th>...</th>\n",
       "      <th>your</th>\n",
       "      <th>yous</th>\n",
       "      <th>yousuf</th>\n",
       "      <th>zadora</th>\n",
       "      <th>zealand</th>\n",
       "      <th>zenger</th>\n",
       "      <th>zodiac</th>\n",
       "      <th>zolotow</th>\n",
       "      <th>zone</th>\n",
       "      <th>zorro</th>\n",
       "    </tr>\n",
       "  </thead>\n",
       "  <tbody>\n",
       "    <tr>\n",
       "      <th>0</th>\n",
       "      <td>0.0</td>\n",
       "      <td>0.0</td>\n",
       "      <td>0.0</td>\n",
       "      <td>0.0</td>\n",
       "      <td>0.0</td>\n",
       "      <td>0.0</td>\n",
       "      <td>0.0</td>\n",
       "      <td>0.0</td>\n",
       "      <td>0.0</td>\n",
       "      <td>0.0</td>\n",
       "      <td>...</td>\n",
       "      <td>0.0</td>\n",
       "      <td>0.0</td>\n",
       "      <td>0.0</td>\n",
       "      <td>0.0</td>\n",
       "      <td>0.0</td>\n",
       "      <td>0.0</td>\n",
       "      <td>0.0</td>\n",
       "      <td>0.0</td>\n",
       "      <td>0.0</td>\n",
       "      <td>0.0</td>\n",
       "    </tr>\n",
       "    <tr>\n",
       "      <th>1</th>\n",
       "      <td>0.0</td>\n",
       "      <td>0.0</td>\n",
       "      <td>0.0</td>\n",
       "      <td>0.0</td>\n",
       "      <td>0.0</td>\n",
       "      <td>0.0</td>\n",
       "      <td>0.0</td>\n",
       "      <td>0.0</td>\n",
       "      <td>0.0</td>\n",
       "      <td>0.0</td>\n",
       "      <td>...</td>\n",
       "      <td>0.0</td>\n",
       "      <td>0.0</td>\n",
       "      <td>0.0</td>\n",
       "      <td>0.0</td>\n",
       "      <td>0.0</td>\n",
       "      <td>0.0</td>\n",
       "      <td>0.0</td>\n",
       "      <td>0.0</td>\n",
       "      <td>0.0</td>\n",
       "      <td>0.0</td>\n",
       "    </tr>\n",
       "    <tr>\n",
       "      <th>2</th>\n",
       "      <td>0.0</td>\n",
       "      <td>0.0</td>\n",
       "      <td>0.0</td>\n",
       "      <td>0.0</td>\n",
       "      <td>0.0</td>\n",
       "      <td>0.0</td>\n",
       "      <td>0.0</td>\n",
       "      <td>0.0</td>\n",
       "      <td>0.0</td>\n",
       "      <td>0.0</td>\n",
       "      <td>...</td>\n",
       "      <td>0.0</td>\n",
       "      <td>0.0</td>\n",
       "      <td>0.0</td>\n",
       "      <td>0.0</td>\n",
       "      <td>0.0</td>\n",
       "      <td>0.0</td>\n",
       "      <td>0.0</td>\n",
       "      <td>0.0</td>\n",
       "      <td>0.0</td>\n",
       "      <td>0.0</td>\n",
       "    </tr>\n",
       "    <tr>\n",
       "      <th>3</th>\n",
       "      <td>0.0</td>\n",
       "      <td>0.0</td>\n",
       "      <td>0.0</td>\n",
       "      <td>0.0</td>\n",
       "      <td>0.0</td>\n",
       "      <td>0.0</td>\n",
       "      <td>0.0</td>\n",
       "      <td>0.0</td>\n",
       "      <td>0.0</td>\n",
       "      <td>0.0</td>\n",
       "      <td>...</td>\n",
       "      <td>0.0</td>\n",
       "      <td>0.0</td>\n",
       "      <td>0.0</td>\n",
       "      <td>0.0</td>\n",
       "      <td>0.0</td>\n",
       "      <td>0.0</td>\n",
       "      <td>0.0</td>\n",
       "      <td>0.0</td>\n",
       "      <td>0.0</td>\n",
       "      <td>0.0</td>\n",
       "    </tr>\n",
       "    <tr>\n",
       "      <th>4</th>\n",
       "      <td>0.0</td>\n",
       "      <td>0.0</td>\n",
       "      <td>0.0</td>\n",
       "      <td>0.0</td>\n",
       "      <td>0.0</td>\n",
       "      <td>0.0</td>\n",
       "      <td>0.0</td>\n",
       "      <td>0.0</td>\n",
       "      <td>0.0</td>\n",
       "      <td>0.0</td>\n",
       "      <td>...</td>\n",
       "      <td>0.0</td>\n",
       "      <td>0.0</td>\n",
       "      <td>0.0</td>\n",
       "      <td>0.0</td>\n",
       "      <td>0.0</td>\n",
       "      <td>0.0</td>\n",
       "      <td>0.0</td>\n",
       "      <td>0.0</td>\n",
       "      <td>0.0</td>\n",
       "      <td>0.0</td>\n",
       "    </tr>\n",
       "  </tbody>\n",
       "</table>\n",
       "<p>5 rows × 3064 columns</p>\n",
       "</div>"
      ],
      "text/plain": [
       "   abbi  abbrevi  abil  abolish  abomin  about  academi  accept  access  \\\n",
       "0   0.0      0.0   0.0      0.0     0.0    0.0      0.0     0.0     0.0   \n",
       "1   0.0      0.0   0.0      0.0     0.0    0.0      0.0     0.0     0.0   \n",
       "2   0.0      0.0   0.0      0.0     0.0    0.0      0.0     0.0     0.0   \n",
       "3   0.0      0.0   0.0      0.0     0.0    0.0      0.0     0.0     0.0   \n",
       "4   0.0      0.0   0.0      0.0     0.0    0.0      0.0     0.0     0.0   \n",
       "\n",
       "   accessori  ...    your  yous  yousuf  zadora  zealand  zenger  zodiac  \\\n",
       "0        0.0  ...     0.0   0.0     0.0     0.0      0.0     0.0     0.0   \n",
       "1        0.0  ...     0.0   0.0     0.0     0.0      0.0     0.0     0.0   \n",
       "2        0.0  ...     0.0   0.0     0.0     0.0      0.0     0.0     0.0   \n",
       "3        0.0  ...     0.0   0.0     0.0     0.0      0.0     0.0     0.0   \n",
       "4        0.0  ...     0.0   0.0     0.0     0.0      0.0     0.0     0.0   \n",
       "\n",
       "   zolotow  zone  zorro  \n",
       "0      0.0   0.0    0.0  \n",
       "1      0.0   0.0    0.0  \n",
       "2      0.0   0.0    0.0  \n",
       "3      0.0   0.0    0.0  \n",
       "4      0.0   0.0    0.0  \n",
       "\n",
       "[5 rows x 3064 columns]"
      ]
     },
     "execution_count": 7,
     "metadata": {},
     "output_type": "execute_result"
    }
   ],
   "source": [
    "processed_text=data_processing(data[\"Question\"].values)\n",
    "cv=CountVectorizer()\n",
    "tf=TfidfTransformer()\n",
    "\n",
    "cv_data=cv.fit_transform(processed_text)\n",
    "tf_data=tf.fit_transform(cv_data).toarray()\n",
    "tf_df=pd.DataFrame(tf_data,columns=cv.get_feature_names())\n",
    "tf_df.head()"
   ]
  },
  {
   "cell_type": "markdown",
   "metadata": {},
   "source": [
    "As we can see, the feature matrix is very sparse an workin with it is not a really good idea on account of the curse of dimensionality.Let us try to fit a MaxEnt model on this before going further with any other thing."
   ]
  },
  {
   "cell_type": "code",
   "execution_count": 8,
   "metadata": {
    "collapsed": true
   },
   "outputs": [],
   "source": [
    "label_dict={'who':1,\"what\":2,\"when\":3,\"affirmation\":4,\"unknown\":5}\n",
    "y=[label_dict[t] for t in data[\"Question_Type\"].values]\n",
    "Xtrain,Xtest,ytrain,ytest=train_test_split(tf_df.values,y,test_size=0.20)"
   ]
  },
  {
   "cell_type": "code",
   "execution_count": 9,
   "metadata": {},
   "outputs": [
    {
     "name": "stdout",
     "output_type": "stream",
     "text": [
      "1.0\n",
      "0.959595959596\n"
     ]
    }
   ],
   "source": [
    "def train(X,y,algorithm=\"Logistic\"):\n",
    "    if(algorithm==\"Logistic\"):\n",
    "        clf=LogisticRegression(penalty='l2',C=10,multi_class=\"multinomial\",solver=\"newton-cg\")\n",
    "        clf.fit(X,y)\n",
    "    return clf\n",
    "model=train(Xtrain,ytrain)\n",
    "print(model.score(Xtrain,ytrain))\n",
    "print(model.score(Xtest,ytest))"
   ]
  },
  {
   "cell_type": "markdown",
   "metadata": {},
   "source": [
    "From the results, it might seem like we are overfitting on the model but we can't be sure as the test set is really small, so is\n",
    "the training set."
   ]
  },
  {
   "cell_type": "code",
   "execution_count": 10,
   "metadata": {
    "collapsed": true
   },
   "outputs": [],
   "source": [
    "#Let us write a predicct function to see how we are doing on some data\n",
    "def predict(question,label_dict=label_dict,clf=model,cv=cv,tf=tf):\n",
    "    question=data_processing([question])\n",
    "    \n",
    "    cv_vector=cv.transform(question)\n",
    "    tf_vector=tf.transform(cv_vector).toarray()\n",
    "    pred=clf.predict(tf_vector)\n",
    "    return [key for key in label_dict.keys() if label_dict[key]==pred][0]\n"
   ]
  },
  {
   "cell_type": "code",
   "execution_count": 11,
   "metadata": {},
   "outputs": [
    {
     "name": "stdout",
     "output_type": "stream",
     "text": [
      "what time does the movie begin? when\n",
      "what is the birthplace of john? what\n",
      "Who was gandhi who\n",
      "Is it morning or noon? affirmation\n",
      "are you a smuggler? affirmation\n",
      "what time does the train leave? when\n",
      "what is the time? what\n"
     ]
    }
   ],
   "source": [
    "#Some testing sentences:\n",
    "sents=[\"what time does the movie begin?\",\"what is the birthplace of john?\",\"Who was gandhi\",\"Is it morning or noon?\",\n",
    "      \"are you a smuggler?\",\"what time does the train leave?\",\"what is the time?\"]\n",
    "for sent in sents:\n",
    "    print sent,predict(sent)"
   ]
  },
  {
   "cell_type": "markdown",
   "metadata": {},
   "source": [
    "They seem to be working well, let us use a larger testing corpus. Since our dataset was approximately a 1000 sentences, lets \n",
    "sample 200 sentences from  http://cogcomp.cs.illinois.edu/Data/QA/QC/train_1000.label"
   ]
  },
  {
   "cell_type": "code",
   "execution_count": 107,
   "metadata": {},
   "outputs": [
    {
     "name": "stdout",
     "output_type": "stream",
     "text": [
      "How can I get some free technical information on Electric Vehicle ? unknown DESC:manner\n",
      "What is the daily requirement of folic acid for an expectant mother ? what DESC:desc\n",
      "What was American folk hero John Chapman 's nickname ? what HUM:ind\n",
      "What is a female rabbit called ? what ENTY:animal\n",
      "What was the U.S. highway death toll in 1969 ? what NUM:count\n",
      "What Nevada center has been dubbed The Biggest Little City in the World ? what LOC:city\n",
      "When did Mount St. Helen last have a significant eruption ? when NUM:date\n",
      "What Spanish artist painted Crucifixion ? what HUM:ind\n",
      "How many species of sharks are there ? unknown NUM:count\n",
      "Where on the Internet can I get information about the Fifth Amendment on the American Bill of Rights ? unknown LOC:other\n",
      "Who coined the term NN cyberspace `` in his novel NN Neuromancer '' ? who HUM:ind\n"
     ]
    }
   ],
   "source": [
    "#Loading the testing data:\n",
    "with open('train_1000.label.txt','r') as filename:\n",
    "    lines=filename.readlines()\n",
    "test_labels=[]\n",
    "test_sents=[]\n",
    "for line in lines:\n",
    "    line=line.lstrip()\n",
    "    line=line.rstrip()\n",
    "    line=line.replace(\"\\n\",\"\")\n",
    "    words=line.split()\n",
    "   \n",
    "    test_labels.append(words[0])\n",
    "    test_sents.append(\" \".join(words[1:]))\n",
    "\n",
    "#Now lets randomly sample 200 sentences from the dataset:\n",
    "test_indices=np.random.permutation(len(test_sents))[:200]\n",
    "\n",
    "labels=[test_labels[ind] for ind in test_indices]\n",
    "sents=[test_sents[ind] for ind in test_indices]\n",
    "\n",
    "#Lets print predictions for first ten sentences:\n",
    "for i,sent in enumerate(sents):\n",
    "    print sent,predict(sent),labels[i]\n",
    "    if(i==10):\n",
    "        break"
   ]
  },
  {
   "cell_type": "markdown",
   "metadata": {},
   "source": [
    "As you can see from the predictions, that we are doing reasonably well in our predictions. The l2 regularizaion is penalizing \n",
    "terms so we don't really need to subsample features, as it will probably degrade performance than improve it."
   ]
  },
  {
   "cell_type": "code",
   "execution_count": 108,
   "metadata": {},
   "outputs": [
    {
     "data": {
      "text/plain": [
       "['.ipynb_checkpoints',\n",
       " 'LabelledData.txt',\n",
       " 'Notebook.ipynb',\n",
       " 'QuestionClassifier.py',\n",
       " 'train_1000.label.txt']"
      ]
     },
     "execution_count": 108,
     "metadata": {},
     "output_type": "execute_result"
    }
   ],
   "source": [
    "import os\n",
    "os.listdir('./')"
   ]
  },
  {
   "cell_type": "code",
   "execution_count": null,
   "metadata": {
    "collapsed": true
   },
   "outputs": [],
   "source": []
  }
 ],
 "metadata": {
  "kernelspec": {
   "display_name": "Python 2",
   "language": "python",
   "name": "python2"
  },
  "language_info": {
   "codemirror_mode": {
    "name": "ipython",
    "version": 2
   },
   "file_extension": ".py",
   "mimetype": "text/x-python",
   "name": "python",
   "nbconvert_exporter": "python",
   "pygments_lexer": "ipython2",
   "version": "2.7.13"
  }
 },
 "nbformat": 4,
 "nbformat_minor": 2
}
